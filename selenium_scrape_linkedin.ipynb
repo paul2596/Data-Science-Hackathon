{
 "cells": [
  {
   "cell_type": "code",
   "execution_count": 63,
   "id": "2d109d99",
   "metadata": {},
   "outputs": [],
   "source": [
    "import pandas as pd\n",
    "from selenium import webdriver\n",
    "from webdriver_manager.chrome import ChromeDriverManager"
   ]
  },
  {
   "cell_type": "code",
   "execution_count": 95,
   "id": "2b02188c",
   "metadata": {},
   "outputs": [],
   "source": [
    "driver = webdriver.Chrome(ChromeDriverManager().install())"
   ]
  },
  {
   "cell_type": "code",
   "execution_count": 108,
   "id": "5a47b09e",
   "metadata": {},
   "outputs": [],
   "source": [
    "from selenium.webdriver.common.keys import Keys\n",
    "from selenium.webdriver.common.by import By\n",
    "import time\n",
    "from selenium.webdriver.common.action_chains import ActionChains\n",
    "from selenium.webdriver.support.ui import WebDriverWait\n",
    "from selenium.webdriver.support import expected_conditions as EC"
   ]
  },
  {
   "cell_type": "code",
   "execution_count": 83,
   "id": "b20231bf",
   "metadata": {},
   "outputs": [],
   "source": [
    "df = pd.read_csv('')#linked_in_link_scrape_v1.csv"
   ]
  },
  {
   "cell_type": "code",
   "execution_count": 96,
   "id": "f7b8172a",
   "metadata": {},
   "outputs": [],
   "source": [
    "df = pd.read_excel('')#linked_in_link_scrape_v1.xlsx"
   ]
  },
  {
   "cell_type": "code",
   "execution_count": 97,
   "id": "4ea9b65d",
   "metadata": {},
   "outputs": [],
   "source": [
    "df.rename(columns={'Unnamed: 0': 'id'}, inplace=True)"
   ]
  },
  {
   "cell_type": "code",
   "execution_count": 17,
   "id": "f57e66da",
   "metadata": {},
   "outputs": [
    {
     "data": {
      "text/plain": [
       "47"
      ]
     },
     "execution_count": 17,
     "metadata": {},
     "output_type": "execute_result"
    }
   ],
   "source": [
    "df['linked_in_link'].isnull().sum()"
   ]
  },
  {
   "cell_type": "code",
   "execution_count": 98,
   "id": "1afff8a1",
   "metadata": {},
   "outputs": [],
   "source": [
    "df = df[df['linked_in_link'].notna()]"
   ]
  },
  {
   "cell_type": "code",
   "execution_count": 99,
   "id": "c8826b9b",
   "metadata": {},
   "outputs": [
    {
     "data": {
      "text/plain": [
       "0"
      ]
     },
     "execution_count": 99,
     "metadata": {},
     "output_type": "execute_result"
    }
   ],
   "source": [
    "df['linked_in_link'].isnull().sum()"
   ]
  },
  {
   "cell_type": "code",
   "execution_count": 100,
   "id": "c6fb9a58",
   "metadata": {},
   "outputs": [],
   "source": [
    "temp = df"
   ]
  },
  {
   "cell_type": "code",
   "execution_count": 129,
   "id": "298b6c0d",
   "metadata": {},
   "outputs": [],
   "source": [
    "df = temp[34:]"
   ]
  },
  {
   "cell_type": "code",
   "execution_count": null,
   "id": "253e77fc",
   "metadata": {},
   "outputs": [],
   "source": [
    "for index in range(len(df)):\n",
    "    website = df['linked_in_link'].iloc[index]\n",
    "    company_name = df['startup'].iloc[index]\n",
    "    search_query = company_name +' company linkedin page '+ website\n",
    "    driver.get('https://www.bing.com/')\n",
    "    search_box = driver.find_element(\"name\", \"q\")\n",
    "\n",
    "    # search query in search input\n",
    "    search_box.send_keys(search_query)\n",
    "    search_box.send_keys(Keys.RETURN)\n",
    "\n",
    "    # wait for the page to load\n",
    "    driver.implicitly_wait(5)\n",
    "\n",
    "    # find first search result link and click it\n",
    "    search_result = driver.find_element(By.CSS_SELECTOR, '.b_algo h2 a')\n",
    "    search_result.click()\n",
    "\n",
    "    # wait for the page to load\n",
    "    driver.implicitly_wait(10)\n",
    "\n",
    "    html_content = driver.page_source\n",
    "    filename = str(df['id'].iloc[index])+str('.html')\n",
    "\n",
    "    with open(''+str(filename), 'w', encoding='utf-8') as f: #{folder path to store html contents}+filename\n",
    "        f.write(html_content)\n",
    "    \n",
    "    time.sleep(4)\n",
    "driver.quit()"
   ]
  },
  {
   "cell_type": "code",
   "execution_count": 121,
   "id": "bbc9cd7b",
   "metadata": {},
   "outputs": [],
   "source": [
    "from urllib.parse import urlparse, urlunparse"
   ]
  },
  {
   "cell_type": "code",
   "execution_count": null,
   "id": "e3b9791e",
   "metadata": {},
   "outputs": [],
   "source": [
    "for index in range(len(df)):\n",
    "    try:\n",
    "        website = df['linked_in_link'].iloc[index]\n",
    "        # parse the url\n",
    "        parsed_url = urlparse(website)\n",
    "        url_without_query_param = parsed_url.scheme + '://' + parsed_url.netloc + parsed_url.path\n",
    "        parsed_url = urlparse(url_without_query_param)\n",
    "\n",
    "        # extract the desired path \n",
    "        path_components = parsed_url.path.split('/')\n",
    "        new_path = '/' + '/'.join(path_components[1:3])\n",
    "\n",
    "        # url with only the required path params\n",
    "        new_url = urlunparse((parsed_url.scheme, parsed_url.netloc, new_path, parsed_url.params, parsed_url.query, parsed_url.fragment))\n",
    "\n",
    "        print(new_url)\n",
    "        new_url = new_url + str('/about')\n",
    "        driver.get(new_url)\n",
    "        wait = WebDriverWait(driver, 5)\n",
    "        about_section = wait.until(EC.presence_of_element_located((By.CSS_SELECTOR, '.org-grid__content-height-enforcer')))\n",
    "\n",
    "\n",
    "        html_content = driver.page_source\n",
    "        filename = str(df['id'].iloc[index])+str('.html')\n",
    "        # save html file content\n",
    "        with open(''+str(filename), 'w', encoding='utf-8') as f:#{folder path to store html contents}+filename\n",
    "            f.write(html_content)\n",
    "        time.sleep(5)\n",
    "        print(f'Successfully retrieved html content for {url_without_query}')\n",
    "    \n",
    "    except Exception as e:\n",
    "        print(f'Error occurred while retrieving html content for {index}: {str(e)}')\n",
    "        continue\n",
    "    "
   ]
  },
  {
   "cell_type": "code",
   "execution_count": 93,
   "id": "5aa752b9",
   "metadata": {},
   "outputs": [],
   "source": [
    "driver.quit()"
   ]
  }
 ],
 "metadata": {
  "kernelspec": {
   "display_name": "Python 3 (ipykernel)",
   "language": "python",
   "name": "python3"
  },
  "language_info": {
   "codemirror_mode": {
    "name": "ipython",
    "version": 3
   },
   "file_extension": ".py",
   "mimetype": "text/x-python",
   "name": "python",
   "nbconvert_exporter": "python",
   "pygments_lexer": "ipython3",
   "version": "3.9.13"
  }
 },
 "nbformat": 4,
 "nbformat_minor": 5
}
